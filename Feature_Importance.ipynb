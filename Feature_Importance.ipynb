{
 "cells": [
  {
   "cell_type": "code",
   "execution_count": 1,
   "metadata": {},
   "outputs": [
    {
     "name": "stderr",
     "output_type": "stream",
     "text": [
      "C:\\Users\\MadiL\\AppData\\Local\\Temp\\ipykernel_11896\\67182430.py:3: DtypeWarning: Columns (23) have mixed types. Specify dtype option on import or set low_memory=False.\n",
      "  df = pd.read_csv(r'C:\\Users\\MadiL\\CS110 CodeBase\\cleaned_data_lat_long.csv')\n"
     ]
    }
   ],
   "source": [
    "import pandas as pd\n",
    "\n",
    "df = pd.read_csv(r'C:\\Users\\MadiL\\CS110 CodeBase\\cleaned_data_lat_long.csv')\n",
    "\n",
    "df = df[df['YearStart'] == df['YearEnd']]\n",
    "df = df[df['StratificationCategory1'] == 'Overall']\n",
    "df = df.dropna(subset=['DataValue'])\n",
    "\n",
    "df.to_csv(r'C:\\Users\\MadiL\\CS110 CodeBase\\all_measures.csv')"
   ]
  },
  {
   "cell_type": "code",
   "execution_count": null,
   "metadata": {},
   "outputs": [
    {
     "name": "stdout",
     "output_type": "stream",
     "text": [
      "Mean Squared Error: 0.6927686011302364\n",
      "R² Score: 0.4073587514166981\n"
     ]
    }
   ],
   "source": [
    "# Pivot the DataFrame\n",
    "pivoted_df = df.pivot_table(\n",
    "    index='LocationDesc',  # States\n",
    "    columns='Question',    # Unique questions\n",
    "    values='DataValue',    # The value (e.g., obesity rate, life expectancy, etc.)\n",
    "    aggfunc='first'        # Aggregate function for multiple values\n",
    ")\n",
    "\n",
    "# Standardize the data (mean = 0, std = 1)\n",
    "pivoted_df = pivoted_df.fillna(pivoted_df.mean())  # Impute missing values with column mean\n",
    "standardized_df = (pivoted_df - pivoted_df.mean()) / pivoted_df.std()\n",
    "\n",
    "# Define target and features\n",
    "# Use a specific column as the target (e.g., \"Obesity rate among adults\")\n",
    "target_column = \"Diabetes among adults\"\n",
    "X = standardized_df.drop(columns=[target_column])\n",
    "y = standardized_df[target_column]\n",
    "\n",
    "# Split the data into training and testing sets\n",
    "from sklearn.model_selection import train_test_split\n",
    "X_train, X_test, y_train, y_test = train_test_split(X, y, test_size=0.2, random_state=42)\n",
    "\n",
    "# Run a Random Forest Regressor\n",
    "from sklearn.ensemble import RandomForestRegressor\n",
    "from sklearn.metrics import mean_squared_error, r2_score\n",
    "\n",
    "model = RandomForestRegressor(n_estimators=100, random_state=42)\n",
    "model.fit(X_train, y_train)\n",
    "\n",
    "# Evaluate the model on the testing data\n",
    "predictions = model.predict(X_test)\n",
    "mse = mean_squared_error(y_test, predictions)\n",
    "r2 = r2_score(y_test, predictions)\n",
    "\n",
    "print(f\"Mean Squared Error: {mse}\")\n",
    "print(f\"R² Score: {r2}\")\n",
    "\n",
    "pivoted_df"
   ]
  }
 ],
 "metadata": {
  "kernelspec": {
   "display_name": "CPSC110env",
   "language": "python",
   "name": "python3"
  },
  "language_info": {
   "codemirror_mode": {
    "name": "ipython",
    "version": 3
   },
   "file_extension": ".py",
   "mimetype": "text/x-python",
   "name": "python",
   "nbconvert_exporter": "python",
   "pygments_lexer": "ipython3",
   "version": "3.12.4"
  }
 },
 "nbformat": 4,
 "nbformat_minor": 2
}
