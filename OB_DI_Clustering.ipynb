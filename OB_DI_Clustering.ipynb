{
 "cells": [
  {
   "cell_type": "code",
   "execution_count": null,
   "metadata": {},
   "outputs": [
    {
     "name": "stderr",
     "output_type": "stream",
     "text": [
      "C:\\Users\\MadiL\\AppData\\Local\\Temp\\ipykernel_10296\\488785431.py:3: DtypeWarning: Columns (22) have mixed types. Specify dtype option on import or set low_memory=False.\n",
      "  df = pd.read_csv(r'C:\\Users\\MadiL\\CS110 CodeBase\\cleaned_data.csv')\n"
     ]
    }
   ],
   "source": [
    "import pandas as pd\n",
    "\n",
    "df = pd.read_csv(r'C:\\Users\\MadiL\\CS110 CodeBase\\cleaned_data.csv')\n",
    "\n",
    "# Make our crude_prevalence masterpiece\n",
    "df = df[df['YearStart'] == df['YearEnd']]\n",
    "df = df[df['StratificationCategory1'] == 'Overall']\n",
    "df = df[df['DataValueUnit'] == '%']\n",
    "df = df[df['DataValueType'] == 'Crude Prevalence']\n",
    "df = df.dropna(subset=['DataValue'])\n",
    "\n",
    "# Pivot the DataFrame\n",
    "pivoted_df = df.pivot_table(\n",
    "    index='LocationDesc',  # States\n",
    "    columns='Question',    # Unique questions\n",
    "    values='DataValue',    # The value (e.g., obesity rate, life expectancy, etc.)\n",
    "    aggfunc='first'       # Since you want one value per state-question pair, 'first' will be sufficient\n",
    ")\n",
    "\n",
    "# Reset index to have 'LocationAbbr' as a column instead of an index\n",
    "pivoted_df.reset_index(inplace=True)\n",
    "\n",
    "final_df = pivoted_df\n",
    "\n"
   ]
  },
  {
   "cell_type": "markdown",
   "metadata": {},
   "source": [
    "### Elbow Method"
   ]
  },
  {
   "cell_type": "code",
   "execution_count": 5,
   "metadata": {},
   "outputs": [
    {
     "data": {
      "image/png": "[encoded data removed]",
      "text/plain": [
       "<Figure size 640x480 with 1 Axes>"
      ]
     },
     "metadata": {},
     "output_type": "display_data"
    }
   ],
   "source": [
    "# Elbow method to find optimal clusters\n",
    "from sklearn.cluster import KMeans\n",
    "from sklearn.metrics import silhouette_score\n",
    "import matplotlib.pyplot as plt\n",
    "import numpy as np\n",
    "from sklearn.cluster import KMeans\n",
    "from sklearn.preprocessing import StandardScaler\n",
    "from sklearn.preprocessing import MinMaxScaler\n",
    "from sklearn.impute import SimpleImputer\n",
    "import pandas as pd\n",
    "\n",
    "# Extract the DataValues columns (numeric data)\n",
    "data_values_df = final_df.copy().set_index('LocationDesc').apply(pd.to_numeric, errors='coerce')\n",
    "\n",
    "# Drop any rows or columns that are NaN after conversion\n",
    "data_values_df = data_values_df.dropna(axis=1, how='all').dropna(axis=0, how='all')\n",
    "\n",
    "# Step 1: Impute missing values using the mean (or median, depending on your preference)\n",
    "imputer = SimpleImputer(strategy='mean')  # 'median' or 'most_frequent' can also be options\n",
    "imputed_data = imputer.fit_transform(data_values_df)\n",
    "\n",
    "# Step 2: Normalize the data\n",
    "scaler = MinMaxScaler()\n",
    "scaled_data = scaler.fit_transform(imputed_data)\n",
    "\n",
    "# Step 3: Apply K-Means clustering\n",
    "k_values = range(2, 11)  # Number of clusters to try    \n",
    "inertias = []\n",
    "\n",
    "for k in k_values:\n",
    "    kmeans = KMeans(n_clusters=k, random_state=42)\n",
    "    kmeans.fit(scaled_data)\n",
    "    inertias.append(kmeans.inertia_)\n",
    "\n",
    "# Plot the elbow curve\n",
    "plt.plot(k_values, inertias, marker='o')\n",
    "plt.xlabel('Number of Clusters')\n",
    "plt.ylabel('Inertia')\n",
    "plt.show()\n"
   ]
  },
  {
   "cell_type": "markdown",
   "metadata": {},
   "source": [
    "### K-Means sans PCA"
   ]
  },
  {
   "cell_type": "code",
   "execution_count": 7,
   "metadata": {},
   "outputs": [
    {
     "data": {
      "application/vnd.plotly.v1+json": {
       "config": {
        "plotlyServerURL": "https://plot.ly"
       },
       "data": [
        {
         "hovertemplate": "<b>%{hovertext}</b><br><br>Cluster=0<br>Diabetes among adults CP (%)=%{x}<br>Obesity among adults CP (%)=%{y}<extra></extra>",
         "hovertext": [
          "Alabama",
          "Arkansas",
          "Indiana",
          "Kentucky",
          "Louisiana",
          "Mississippi",
          "Missouri",
          "North Carolina",
          "Ohio",
          "Oklahoma",
          "South Carolina",
          "Tennessee",
          "West Virginia"
         ],
         "legendgroup": "0",
         "marker": {
          "color": "#636efa",
          "line": {
           "color": "DarkSlateGrey",
           "width": 2
          },
          "size": 12,
          "symbol": "circle"
         },
         "mode": "markers",
         "name": "0",
         "orientation": "v",
         "showlegend": true,
         "type": "scatter",
         "x": [
          14,
          13.6,
          12.4,
          13.3,
          12.6,
          14.8,
          10.3,
          11.8,
          12,
          12.2,
          13.4,
          13.8,
          15.7
         ],
         "xaxis": "x",
         "y": [
          36.1,
          37.4,
          35.3,
          36.5,
          35.9,
          40.8,
          34.8,
          34,
          34.8,
          36.8,
          35.3,
          36.5,
          39.7
         ],
         "yaxis": "y"
        },
        {
         "hovertemplate": "<b>%{hovertext}</b><br><br>Cluster=1<br>Diabetes among adults CP (%)=%{x}<br>Obesity among adults CP (%)=%{y}<extra></extra>",
         "hovertext": [
          "Alaska",
          "California",
          "Colorado",
          "Connecticut",
          "Delaware",
          "District of Columbia",
          "Hawaii",
          "Idaho",
          "Illinois",
          "Iowa",
          "Kansas",
          "Maine",
          "Maryland",
          "Massachusetts",
          "Michigan",
          "Minnesota",
          "Montana",
          "Nebraska",
          "New Hampshire",
          "New Jersey",
          "New York",
          "North Dakota",
          "Oregon",
          "Pennsylvania",
          "Rhode Island",
          "South Dakota",
          "United States",
          "Utah",
          "Vermont",
          "Virginia",
          "Washington",
          "Wisconsin",
          "Wyoming"
         ],
         "legendgroup": "1",
         "marker": {
          "color": "#EF553B",
          "line": {
           "color": "DarkSlateGrey",
           "width": 2
          },
          "size": 12,
          "symbol": "circle"
         },
         "mode": "markers",
         "name": "1",
         "orientation": "v",
         "showlegend": true,
         "type": "scatter",
         "x": [
          7.3,
          10.1,
          7,
          9.6,
          12.8,
          8.7,
          10.5,
          10.3,
          11.3,
          10.3,
          10.8,
          10.6,
          11,
          8.4,
          11.1,
          8.8,
          7.6,
          10.2,
          9.2,
          10.3,
          10.5,
          8.9,
          8.6,
          10.8,
          10.4,
          10.6,
          11.1,
          8,
          8.7,
          10.9,
          9.4,
          8.7,
          7.8
         ],
         "xaxis": "x",
         "y": [
          30.5,
          26.1,
          23.8,
          29.1,
          34.4,
          23.8,
          25,
          29.4,
          31.6,
          33.9,
          35.2,
          31.7,
          32.2,
          25.2,
          36,
          30.1,
          28.3,
          34.1,
          31.8,
          27.7,
          27.1,
          34.8,
          29,
          33.2,
          30,
          33,
          31.4,
          29.2,
          26.6,
          31.9,
          28.3,
          34.2,
          29.7
         ],
         "yaxis": "y"
        },
        {
         "hovertemplate": "<b>%{hovertext}</b><br><br>Cluster=2<br>Diabetes among adults CP (%)=%{x}<br>Obesity among adults CP (%)=%{y}<extra></extra>",
         "hovertext": [
          "Arizona",
          "Florida",
          "Georgia",
          "Guam",
          "Nevada",
          "New Mexico",
          "Puerto Rico",
          "Texas",
          "Virgin Islands"
         ],
         "legendgroup": "2",
         "marker": {
          "color": "#00cc96",
          "line": {
           "color": "DarkSlateGrey",
           "width": 2
          },
          "size": 12,
          "symbol": "circle"
         },
         "mode": "markers",
         "name": "2",
         "orientation": "v",
         "showlegend": true,
         "type": "scatter",
         "x": [
          10.9,
          11.7,
          12,
          11.7,
          10.9,
          12.3,
          16.7,
          12.2,
          14.9
         ],
         "xaxis": "x",
         "y": [
          31.4,
          27,
          33.1,
          33.6,
          30.6,
          31.7,
          32.5,
          34,
          35.6
         ],
         "yaxis": "y"
        }
       ],
       "layout": {
        "legend": {
         "title": {
          "text": "Cluster"
         },
         "tracegroupgap": 0
        },
        "template": {
         "data": {
          "bar": [
           {
            "error_x": {
             "color": "#f2f5fa"
            },
            "error_y": {
             "color": "#f2f5fa"
            },
            "marker": {
             "line": {
              "color": "rgb(17,17,17)",
              "width": 0.5
             },
             "pattern": {
              "fillmode": "overlay",
              "size": 10,
              "solidity": 0.2
             }
            },
            "type": "bar"
           }
          ],
          "barpolar": [
           {
            "marker": {
             "line": {
              "color": "rgb(17,17,17)",
              "width": 0.5
             },
             "pattern": {
              "fillmode": "overlay",
              "size": 10,
              "solidity": 0.2
             }
            },
            "type": "barpolar"
           }
          ],
          "carpet": [
           {
            "aaxis": {
             "endlinecolor": "#A2B1C6",
             "gridcolor": "#506784",
             "linecolor": "#506784",
             "minorgridcolor": "#506784",
             "startlinecolor": "#A2B1C6"
            },
            "baxis": {
             "endlinecolor": "#A2B1C6",
             "gridcolor": "#506784",
             "linecolor": "#506784",
             "minorgridcolor": "#506784",
             "startlinecolor": "#A2B1C6"
            },
            "type": "carpet"
           }
          ],
          "choropleth": [
           {
            "colorbar": {
             "outlinewidth": 0,
             "ticks": ""
            },
            "type": "choropleth"
           }
          ],
          "contour": [
           {
            "colorbar": {
             "outlinewidth": 0,
             "ticks": ""
            },
            "colorscale": [
             [
              0,
              "#0d0887"
             ],
             [
              0.1111111111111111,
              "#46039f"
             ],
             [
              0.2222222222222222,
              "#7201a8"
             ],
             [
              0.3333333333333333,
              "#9c179e"
             ],
             [
              0.4444444444444444,
              "#bd3786"
             ],
             [
              0.5555555555555556,
              "#d8576b"
             ],
             [
              0.6666666666666666,
              "#ed7953"
             ],
             [
              0.7777777777777778,
              "#fb9f3a"
             ],
             [
              0.8888888888888888,
              "#fdca26"
             ],
             [
              1,
              "#f0f921"
             ]
            ],
            "type": "contour"
           }
          ],
          "contourcarpet": [
           {
            "colorbar": {
             "outlinewidth": 0,
             "ticks": ""
            },
            "type": "contourcarpet"
           }
          ],
          "heatmap": [
           {
            "colorbar": {
             "outlinewidth": 0,
             "ticks": ""
            },
            "colorscale": [
             [
              0,
              "#0d0887"
             ],
             [
              0.1111111111111111,
              "#46039f"
             ],
             [
              0.2222222222222222,
              "#7201a8"
             ],
             [
              0.3333333333333333,
              "#9c179e"
             ],
             [
              0.4444444444444444,
              "#bd3786"
             ],
             [
              0.5555555555555556,
              "#d8576b"
             ],
             [
              0.6666666666666666,
              "#ed7953"
             ],
             [
              0.7777777777777778,
              "#fb9f3a"
             ],
             [
              0.8888888888888888,
              "#fdca26"
             ],
             [
              1,
              "#f0f921"
             ]
            ],
            "type": "heatmap"
           }
          ],
          "heatmapgl": [
           {
            "colorbar": {
             "outlinewidth": 0,
             "ticks": ""
            },
            "colorscale": [
             [
              0,
              "#0d0887"
             ],
             [
              0.1111111111111111,
              "#46039f"
             ],
             [
              0.2222222222222222,
              "#7201a8"
             ],
             [
              0.3333333333333333,
              "#9c179e"
             ],
             [
              0.4444444444444444,
              "#bd3786"
             ],
             [
              0.5555555555555556,
              "#d8576b"
             ],
             [
              0.6666666666666666,
              "#ed7953"
             ],
             [
              0.7777777777777778,
              "#fb9f3a"
             ],
             [
              0.8888888888888888,
              "#fdca26"
             ],
             [
              1,
              "#f0f921"
             ]
            ],
            "type": "heatmapgl"
           }
          ],
          "histogram": [
           {
            "marker": {
             "pattern": {
              "fillmode": "overlay",
              "size": 10,
              "solidity": 0.2
             }
            },
            "type": "histogram"
           }
          ],
          "histogram2d": [
           {
            "colorbar": {
             "outlinewidth": 0,
             "ticks": ""
            },
            "colorscale": [
             [
              0,
              "#0d0887"
             ],
             [
              0.1111111111111111,
              "#46039f"
             ],
             [
              0.2222222222222222,
              "#7201a8"
             ],
             [
              0.3333333333333333,
              "#9c179e"
             ],
             [
              0.4444444444444444,
              "#bd3786"
             ],
             [
              0.5555555555555556,
              "#d8576b"
             ],
             [
              0.6666666666666666,
              "#ed7953"
             ],
             [
              0.7777777777777778,
              "#fb9f3a"
             ],
             [
              0.8888888888888888,
              "#fdca26"
             ],
             [
              1,
              "#f0f921"
             ]
            ],
            "type": "histogram2d"
           }
          ],
          "histogram2dcontour": [
           {
            "colorbar": {
             "outlinewidth": 0,
             "ticks": ""
            },
            "colorscale": [
             [
              0,
              "#0d0887"
             ],
             [
              0.1111111111111111,
              "#46039f"
             ],
             [
              0.2222222222222222,
              "#7201a8"
             ],
             [
              0.3333333333333333,
              "#9c179e"
             ],
             [
              0.4444444444444444,
              "#bd3786"
             ],
             [
              0.5555555555555556,
              "#d8576b"
             ],
             [
              0.6666666666666666,
              "#ed7953"
             ],
             [
              0.7777777777777778,
              "#fb9f3a"
             ],
             [
              0.8888888888888888,
              "#fdca26"
             ],
             [
              1,
              "#f0f921"
             ]
            ],
            "type": "histogram2dcontour"
           }
          ],
          "mesh3d": [
           {
            "colorbar": {
             "outlinewidth": 0,
             "ticks": ""
            },
            "type": "mesh3d"
           }
          ],
          "parcoords": [
           {
            "line": {
             "colorbar": {
              "outlinewidth": 0,
              "ticks": ""
             }
            },
            "type": "parcoords"
           }
          ],
          "pie": [
           {
            "automargin": true,
            "type": "pie"
           }
          ],
          "scatter": [
           {
            "marker": {
             "line": {
              "color": "#283442"
             }
            },
            "type": "scatter"
           }
          ],
          "scatter3d": [
           {
            "line": {
             "colorbar": {
              "outlinewidth": 0,
              "ticks": ""
             }
            },
            "marker": {
             "colorbar": {
              "outlinewidth": 0,
              "ticks": ""
             }
            },
            "type": "scatter3d"
           }
          ],
          "scattercarpet": [
           {
            "marker": {
             "colorbar": {
              "outlinewidth": 0,
              "ticks": ""
             }
            },
            "type": "scattercarpet"
           }
          ],
          "scattergeo": [
           {
            "marker": {
             "colorbar": {
              "outlinewidth": 0,
              "ticks": ""
             }
            },
            "type": "scattergeo"
           }
          ],
          "scattergl": [
           {
            "marker": {
             "line": {
              "color": "#283442"
             }
            },
            "type": "scattergl"
           }
          ],
          "scattermapbox": [
           {
            "marker": {
             "colorbar": {
              "outlinewidth": 0,
              "ticks": ""
             }
            },
            "type": "scattermapbox"
           }
          ],
          "scatterpolar": [
           {
            "marker": {
             "colorbar": {
              "outlinewidth": 0,
              "ticks": ""
             }
            },
            "type": "scatterpolar"
           }
          ],
          "scatterpolargl": [
           {
            "marker": {
             "colorbar": {
              "outlinewidth": 0,
              "ticks": ""
             }
            },
            "type": "scatterpolargl"
           }
          ],
          "scatterternary": [
           {
            "marker": {
             "colorbar": {
              "outlinewidth": 0,
              "ticks": ""
             }
            },
            "type": "scatterternary"
           }
          ],
          "surface": [
           {
            "colorbar": {
             "outlinewidth": 0,
             "ticks": ""
            },
            "colorscale": [
             [
              0,
              "#0d0887"
             ],
             [
              0.1111111111111111,
              "#46039f"
             ],
             [
              0.2222222222222222,
              "#7201a8"
             ],
             [
              0.3333333333333333,
              "#9c179e"
             ],
             [
              0.4444444444444444,
              "#bd3786"
             ],
             [
              0.5555555555555556,
              "#d8576b"
             ],
             [
              0.6666666666666666,
              "#ed7953"
             ],
             [
              0.7777777777777778,
              "#fb9f3a"
             ],
             [
              0.8888888888888888,
              "#fdca26"
             ],
             [
              1,
              "#f0f921"
             ]
            ],
            "type": "surface"
           }
          ],
          "table": [
           {
            "cells": {
             "fill": {
              "color": "#506784"
             },
             "line": {
              "color": "rgb(17,17,17)"
             }
            },
            "header": {
             "fill": {
              "color": "#2a3f5f"
             },
             "line": {
              "color": "rgb(17,17,17)"
             }
            },
            "type": "table"
           }
          ]
         },
         "layout": {
          "annotationdefaults": {
           "arrowcolor": "#f2f5fa",
           "arrowhead": 0,
           "arrowwidth": 1
          },
          "autotypenumbers": "strict",
          "coloraxis": {
           "colorbar": {
            "outlinewidth": 0,
            "ticks": ""
           }
          },
          "colorscale": {
           "diverging": [
            [
             0,
             "#8e0152"
            ],
            [
             0.1,
             "#c51b7d"
            ],
            [
             0.2,
             "#de77ae"
            ],
            [
             0.3,
             "#f1b6da"
            ],
            [
             0.4,
             "#fde0ef"
            ],
            [
             0.5,
             "#f7f7f7"
            ],
            [
             0.6,
             "#e6f5d0"
            ],
            [
             0.7,
             "#b8e186"
            ],
            [
             0.8,
             "#7fbc41"
            ],
            [
             0.9,
             "#4d9221"
            ],
            [
             1,
             "#276419"
            ]
           ],
           "sequential": [
            [
             0,
             "#0d0887"
            ],
            [
             0.1111111111111111,
             "#46039f"
            ],
            [
             0.2222222222222222,
             "#7201a8"
            ],
            [
             0.3333333333333333,
             "#9c179e"
            ],
            [
             0.4444444444444444,
             "#bd3786"
            ],
            [
             0.5555555555555556,
             "#d8576b"
            ],
            [
             0.6666666666666666,
             "#ed7953"
            ],
            [
             0.7777777777777778,
             "#fb9f3a"
            ],
            [
             0.8888888888888888,
             "#fdca26"
            ],
            [
             1,
             "#f0f921"
            ]
           ],
           "sequentialminus": [
            [
             0,
             "#0d0887"
            ],
            [
             0.1111111111111111,
             "#46039f"
            ],
            [
             0.2222222222222222,
             "#7201a8"
            ],
            [
             0.3333333333333333,
             "#9c179e"
            ],
            [
             0.4444444444444444,
             "#bd3786"
            ],
            [
             0.5555555555555556,
             "#d8576b"
            ],
            [
             0.6666666666666666,
             "#ed7953"
            ],
            [
             0.7777777777777778,
             "#fb9f3a"
            ],
            [
             0.8888888888888888,
             "#fdca26"
            ],
            [
             1,
             "#f0f921"
            ]
           ]
          },
          "colorway": [
           "#636efa",
           "#EF553B",
           "#00cc96",
           "#ab63fa",
           "#FFA15A",
           "#19d3f3",
           "#FF6692",
           "#B6E880",
           "#FF97FF",
           "#FECB52"
          ],
          "font": {
           "color": "#f2f5fa"
          },
          "geo": {
           "bgcolor": "rgb(17,17,17)",
           "lakecolor": "rgb(17,17,17)",
           "landcolor": "rgb(17,17,17)",
           "showlakes": true,
           "showland": true,
           "subunitcolor": "#506784"
          },
          "hoverlabel": {
           "align": "left"
          },
          "hovermode": "closest",
          "mapbox": {
           "style": "dark"
          },
          "paper_bgcolor": "rgb(17,17,17)",
          "plot_bgcolor": "rgb(17,17,17)",
          "polar": {
           "angularaxis": {
            "gridcolor": "#506784",
            "linecolor": "#506784",
            "ticks": ""
           },
           "bgcolor": "rgb(17,17,17)",
           "radialaxis": {
            "gridcolor": "#506784",
            "linecolor": "#506784",
            "ticks": ""
           }
          },
          "scene": {
           "xaxis": {
            "backgroundcolor": "rgb(17,17,17)",
            "gridcolor": "#506784",
            "gridwidth": 2,
            "linecolor": "#506784",
            "showbackground": true,
            "ticks": "",
            "zerolinecolor": "#C8D4E3"
           },
           "yaxis": {
            "backgroundcolor": "rgb(17,17,17)",
            "gridcolor": "#506784",
            "gridwidth": 2,
            "linecolor": "#506784",
            "showbackground": true,
            "ticks": "",
            "zerolinecolor": "#C8D4E3"
           },
           "zaxis": {
            "backgroundcolor": "rgb(17,17,17)",
            "gridcolor": "#506784",
            "gridwidth": 2,
            "linecolor": "#506784",
            "showbackground": true,
            "ticks": "",
            "zerolinecolor": "#C8D4E3"
           }
          },
          "shapedefaults": {
           "line": {
            "color": "#f2f5fa"
           }
          },
          "sliderdefaults": {
           "bgcolor": "#C8D4E3",
           "bordercolor": "rgb(17,17,17)",
           "borderwidth": 1,
           "tickwidth": 0
          },
          "ternary": {
           "aaxis": {
            "gridcolor": "#506784",
            "linecolor": "#506784",
            "ticks": ""
           },
           "baxis": {
            "gridcolor": "#506784",
            "linecolor": "#506784",
            "ticks": ""
           },
           "bgcolor": "rgb(17,17,17)",
           "caxis": {
            "gridcolor": "#506784",
            "linecolor": "#506784",
            "ticks": ""
           }
          },
          "title": {
           "x": 0.05
          },
          "updatemenudefaults": {
           "bgcolor": "#506784",
           "borderwidth": 0
          },
          "xaxis": {
           "automargin": true,
           "gridcolor": "#283442",
           "linecolor": "#506784",
           "ticks": "",
           "title": {
            "standoff": 15
           },
           "zerolinecolor": "#283442",
           "zerolinewidth": 2
          },
          "yaxis": {
           "automargin": true,
           "gridcolor": "#283442",
           "linecolor": "#506784",
           "ticks": "",
           "title": {
            "standoff": 15
           },
           "zerolinecolor": "#283442",
           "zerolinewidth": 2
          }
         }
        },
        "title": {
         "font": {
          "size": 20
         },
         "text": "Clustering of States by Diabetes among adults and Obesity among adults Rates"
        },
        "xaxis": {
         "anchor": "y",
         "domain": [
          0,
          1
         ],
         "title": {
          "text": "Diabetes among adults CP (%)"
         }
        },
        "yaxis": {
         "anchor": "x",
         "domain": [
          0,
          1
         ],
         "title": {
          "text": "Obesity among adults CP (%)"
         }
        }
       }
      }
     },
     "metadata": {},
     "output_type": "display_data"
    },
    {
     "name": "stdout",
     "output_type": "stream",
     "text": [
      "Cluster 0: ['Alabama', 'Arkansas', 'Indiana', 'Kentucky', 'Louisiana', 'Mississippi', 'Missouri', 'North Carolina', 'Ohio', 'Oklahoma', 'South Carolina', 'Tennessee', 'West Virginia']\n",
      "Cluster 1: ['Alaska', 'California', 'Colorado', 'Connecticut', 'Delaware', 'District of Columbia', 'Hawaii', 'Idaho', 'Illinois', 'Iowa', 'Kansas', 'Maine', 'Maryland', 'Massachusetts', 'Michigan', 'Minnesota', 'Montana', 'Nebraska', 'New Hampshire', 'New Jersey', 'New York', 'North Dakota', 'Oregon', 'Pennsylvania', 'Rhode Island', 'South Dakota', 'United States', 'Utah', 'Vermont', 'Virginia', 'Washington', 'Wisconsin', 'Wyoming']\n",
      "Cluster 2: ['Arizona', 'Florida', 'Georgia', 'Guam', 'Nevada', 'New Mexico', 'Puerto Rico', 'Texas', 'Virgin Islands']\n"
     ]
    }
   ],
   "source": [
    "unfinal_df = final_df.copy()\n",
    "\n",
    "# Step 1: Extract the DataValues columns (numeric data)\n",
    "# Keep 'LocationAbbr' as a column, not as the index\n",
    "data_values_df = unfinal_df[['LocationDesc']].join(unfinal_df.drop(columns=['LocationDesc']).apply(pd.to_numeric, errors='coerce'))\n",
    "\n",
    "# Drop any rows or columns that are NaN after conversion\n",
    "data_values_df = data_values_df.dropna(axis=1, how='all').dropna(axis=0, how='all')\n",
    "\n",
    "# Step 2: Impute missing values using the mean (or median, depending on your preference)\n",
    "imputer = SimpleImputer(strategy='mean')\n",
    "imputed_data = imputer.fit_transform(data_values_df.drop(columns=['LocationDesc']))  # Exclude 'LocationDesc' for imputation\n",
    "\n",
    "# Step 3: Normalize the data\n",
    "scaler = MinMaxScaler()\n",
    "scaled_data = scaler.fit_transform(imputed_data)\n",
    "\n",
    "# Step 4: Apply K-Means clustering\n",
    "optimal_clusters = 3  # Adjust this based on your needs\n",
    "kmeans = KMeans(n_clusters=optimal_clusters, random_state=42)\n",
    "kmeans.fit(scaled_data)\n",
    "\n",
    "# Step 5: Assign cluster labels to your dataframe\n",
    "data_values_df['Cluster'] = kmeans.labels_\n",
    "\n",
    "# Add the 'LocationAbbr' column back for visualization (so it's available for hover_name)\n",
    "final_df['Cluster'] = data_values_df['Cluster']  # Add cluster labels back to the original final_df\n",
    "final_df['LocationDesc'] = data_values_df['LocationDesc']  # Add LocationAbbr back\n",
    "\n",
    "x_feature = 'Diabetes among adults'\n",
    "y_feature = 'Obesity among adults'\n",
    "\n",
    "# Now, you can visualize the clusters with Plotly and use 'LocationAbbr' for hover\n",
    "import plotly.express as px\n",
    "\n",
    "# Convert 'Cluster' to a categorical type for better coloring\n",
    "final_df['Cluster'] = final_df['Cluster'].astype('category')\n",
    "\n",
    "# Plotly scatter plot with categorical coloring\n",
    "fig = px.scatter(final_df, \n",
    "                 x=x_feature, \n",
    "                 y=y_feature, \n",
    "                 color='Cluster',  # Color by cluster, now categorical\n",
    "                 hover_name='LocationDesc',  # Show state abbreviation when hovered\n",
    "                 labels={x_feature: f'{x_feature} CP (%)', \n",
    "                         y_feature: f'{y_feature} CP (%)', \n",
    "                         'Cluster': 'Cluster'},  # Label adjustments\n",
    "                 title=f\"Clustering of States by {x_feature} and {y_feature} Rates\",\n",
    "                 category_orders={'Cluster': sorted(final_df['Cluster'].unique())})  # Ensures clusters are ordered\n",
    "\n",
    "# Improve marker appearance\n",
    "fig.update_traces(marker=dict(size=12, line=dict(width=2, color='DarkSlateGrey')))\n",
    "\n",
    "# Adjust layout for a cleaner look\n",
    "fig.update_layout(\n",
    "    title_font_size=20,\n",
    "    xaxis_title=f'{x_feature} CP (%)',\n",
    "    yaxis_title=f'{y_feature} CP (%)',\n",
    "    template='plotly_dark',  # You can change this to 'plotly' for a lighter theme\n",
    ")\n",
    "\n",
    "fig.show()\n",
    "\n",
    "# Now, let's print out the list of states in each cluster\n",
    "for cluster in final_df['Cluster'].cat.categories:\n",
    "    states_in_cluster = final_df[final_df['Cluster'] == cluster]['LocationDesc'].tolist()\n",
    "    print(f\"Cluster {cluster}: {states_in_cluster}\")\n"
   ]
  }
 ],
 "metadata": {
  "kernelspec": {
   "display_name": "CPSC110env",
   "language": "python",
   "name": "python3"
  },
  "language_info": {
   "codemirror_mode": {
    "name": "ipython",
    "version": 3
   },
   "file_extension": ".py",
   "mimetype": "text/x-python",
   "name": "python",
   "nbconvert_exporter": "python",
   "pygments_lexer": "ipython3",
   "version": "3.12.4"
  }
 },
 "nbformat": 4,
 "nbformat_minor": 2
}
