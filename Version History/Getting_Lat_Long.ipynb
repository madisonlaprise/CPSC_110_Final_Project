{
 "cells": [
  {
   "cell_type": "code",
   "execution_count": 2,
   "metadata": {},
   "outputs": [
    {
     "name": "stderr",
     "output_type": "stream",
     "text": [
      "C:\\Users\\MadiL\\AppData\\Local\\Temp\\ipykernel_24244\\2634512914.py:4: DtypeWarning: Columns (22) have mixed types. Specify dtype option on import or set low_memory=False.\n",
      "  df = pd.read_csv('cleaned_data.csv')\n"
     ]
    }
   ],
   "source": [
    "import pandas as pd\n",
    "import geopandas as gpd\n",
    "\n",
    "df = pd.read_csv('cleaned_data.csv')\n",
    "\n",
    "state_coords = {\n",
    "    'Alabama': (32.806671, -86.791130),\n",
    "    'Arizona': (33.729759, -111.431221),\n",
    "    'Arkansas': (34.969704, -92.373123),\n",
    "    'California': (36.116203, -119.681564),\n",
    "    'Colorado': (39.550051, -105.782067),\n",
    "    'Connecticut': (41.599484, -72.755371),\n",
    "    'Delaware': (39.318523, -75.507141),\n",
    "    'Florida': (27.766279, -81.686783),\n",
    "    'Georgia': (33.040619, -83.643074),\n",
    "    'Idaho': (44.299782, -114.642675),\n",
    "    'Illinois': (40.633125, -89.398528),\n",
    "    'Indiana': (39.716534, -86.854462),\n",
    "    'Iowa': (42.011539, -93.210526),\n",
    "    'Kansas': (39.8283, -98.5795),\n",
    "    'Kentucky': (37.668140, -84.670067),\n",
    "    'Louisiana': (31.169546, -91.867805),\n",
    "    'Maine': (44.693947, -69.381927),\n",
    "    'Maryland': (39.063946, -76.802101),\n",
    "    'Massachusetts': (42.230171, -71.530106),\n",
    "    'Michigan': (42.3811, -83.4443),\n",
    "    'Minnesota': (45.694454, -93.900192),\n",
    "    'Mississippi': (32.741646, -89.678696),\n",
    "    'Missouri': (36.536735, -89.831211),\n",
    "    'Montana': (46.921925, -110.454353),\n",
    "    'Nebraska': (41.125370, -98.268082),\n",
    "    'Nevada': (38.313515, -117.055374),\n",
    "    'New Hampshire': (43.452492, -71.563896),\n",
    "    'New Jersey': (40.298904, -74.521011),\n",
    "    'New Mexico': (34.840515, -106.248482),\n",
    "    'New York': (40.712776, -74.005974),\n",
    "    'North Carolina': (35.630066, -79.806419),\n",
    "    'North Dakota': (47.528912, -99.784012),\n",
    "    'Ohio': (40.388783, -82.764915),\n",
    "    'Oklahoma': (35.565342, -96.928917),\n",
    "    'Oregon': (44.572021, -122.070938),\n",
    "    'Pennsylvania': (40.590752, -77.209755),\n",
    "    'Rhode Island': (41.680893, -71.511780),\n",
    "    'South Carolina': (33.625356, -80.947030),\n",
    "    'South Dakota': (44.299782, -99.438828),\n",
    "    'Tennessee': (35.747845, -86.692345),\n",
    "    'Texas': (31.054487, -97.563461),\n",
    "    'Utah': (40.150032, -111.862434),\n",
    "    'Vermont': (44.045876, -72.710686),\n",
    "    'Virginia': (37.769337, -78.169968),\n",
    "    'Washington': (47.400902, -121.490494),\n",
    "    'West Virginia': (38.491226, -80.954049),\n",
    "    'Wisconsin': (43.784440, -88.787868),\n",
    "    'Wyoming': (42.755966, -107.302490),\n",
    "    'Puerto Rico': (18.220833, -66.590149),\n",
    "    'Alaska': (61.370716, -152.404419),\n",
    "    'Hawaii': (21.094318, -157.498337)\n",
    "}\n",
    "\n",
    "df['latitude'] = df['LocationDesc'].map(lambda x: state_coords.get(x, (None, None))[0])\n",
    "df['longitude'] = df['LocationDesc'].map(lambda x: state_coords.get(x, (None, None))[1])\n"
   ]
  },
  {
   "cell_type": "code",
   "execution_count": 3,
   "metadata": {},
   "outputs": [],
   "source": [
    "df.to_csv('cleaned_data_lat_long.csv')"
   ]
  },
  {
   "cell_type": "code",
   "execution_count": null,
   "metadata": {},
   "outputs": [],
   "source": []
  }
 ],
 "metadata": {
  "kernelspec": {
   "display_name": "CPSC110env",
   "language": "python",
   "name": "python3"
  },
  "language_info": {
   "codemirror_mode": {
    "name": "ipython",
    "version": 3
   },
   "file_extension": ".py",
   "mimetype": "text/x-python",
   "name": "python",
   "nbconvert_exporter": "python",
   "pygments_lexer": "ipython3",
   "version": "3.12.4"
  }
 },
 "nbformat": 4,
 "nbformat_minor": 2
}
